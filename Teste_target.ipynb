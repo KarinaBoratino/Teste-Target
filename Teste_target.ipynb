{
  "nbformat": 4,
  "nbformat_minor": 0,
  "metadata": {
    "colab": {
      "provenance": [],
      "authorship_tag": "ABX9TyMycmJomyXsF7ATsHfImx08",
      "include_colab_link": true
    },
    "kernelspec": {
      "name": "python3",
      "display_name": "Python 3"
    },
    "language_info": {
      "name": "python"
    }
  },
  "cells": [
    {
      "cell_type": "markdown",
      "metadata": {
        "id": "view-in-github",
        "colab_type": "text"
      },
      "source": [
        "<a href=\"https://colab.research.google.com/github/KarinaBoratino/Teste-Target/blob/main/Teste_target.ipynb\" target=\"_parent\"><img src=\"https://colab.research.google.com/assets/colab-badge.svg\" alt=\"Open In Colab\"/></a>"
      ]
    },
    {
      "cell_type": "code",
      "execution_count": 7,
      "metadata": {
        "colab": {
          "base_uri": "https://localhost:8080/"
        },
        "id": "KFdP-XOxK42p",
        "outputId": "f98ad1d8-c72b-4136-febb-6df0981459a6"
      },
      "outputs": [
        {
          "output_type": "stream",
          "name": "stdout",
          "text": [
            "A soma é igual a:  91\n"
          ]
        }
      ],
      "source": [
        "#1) Observe o trecho de código abaixo: int INDICE = 13, SOMA = 0, K = 0; Enquanto K < INDICE faça { K = K + 1; SOMA = SOMA + K; }Imprimir(SOMA); Ao final do processamento, qual será o valor da variável SOMA?\n",
        "\n",
        "indice = 13\n",
        "k = 0\n",
        "soma = 0\n",
        "while k < indice:\n",
        "    k += 1\n",
        "    soma += k\n",
        "print ('A soma é igual a: ', soma)\n",
        "\n"
      ]
    },
    {
      "cell_type": "code",
      "source": [
        "#2) Dado a sequência de Fibonacci, onde se inicia por 0 e 1 e o próximo valor sempre será a soma dos 2 valores anteriores (exemplo: 0, 1, 1, 2, 3, 5, 8, 13, 21, 34...), escreva um programa na linguagem que desejar onde, informado um número, ele calcule a sequência de Fibonacci e retorne uma mensagem avisando se o número informado pertence ou não a sequência.\n",
        "\n",
        "def pertence_a_fibonacci(numero):\n",
        "    fib_1, fib_2 = 0, 1\n",
        "\n",
        "    if numero == fib_1 or numero == fib_2:\n",
        "        return True\n",
        "\n",
        "    while fib_2 < numero:\n",
        "        fib_1, fib_2 = fib_2, fib_1 + fib_2\n",
        "\n",
        "    return numero == fib_2\n",
        "\n",
        "numero = int(input(\"Informe um número: \"))\n",
        "\n",
        "if pertence_a_fibonacci(numero):\n",
        "    print(f\"O número {numero} pertence à sequência de Fibonacci.\")\n",
        "else:\n",
        "    print(f\"O número {numero} NÃO pertence à sequência de Fibonacci.\")"
      ],
      "metadata": {
        "colab": {
          "base_uri": "https://localhost:8080/"
        },
        "id": "teD-bxguM8X3",
        "outputId": "1172fa9a-02b7-4db8-9ee3-93f2d0a8bd43"
      },
      "execution_count": 8,
      "outputs": [
        {
          "output_type": "stream",
          "name": "stdout",
          "text": [
            "Informe um número: 8\n",
            "O número 8 pertence à sequência de Fibonacci.\n"
          ]
        }
      ]
    },
    {
      "cell_type": "code",
      "source": [
        "#3) Dado um vetor que guarda o valor de faturamento diário de uma distribuidora, faça um programa, na linguagem que desejar, que calcule e retorne:\n",
        "#• O menor valor de faturamento ocorrido em um dia do mês;\n",
        "#• O maior valor de faturamento ocorrido em um dia do mês;\n",
        "#• Número de dias no mês em que o valor de faturamento diário foi superior à média mensal.\n",
        "\n",
        "def analisa_faturamento(faturamentos):\n",
        "    if not faturamentos:\n",
        "        return None, None, 0\n",
        "\n",
        "    menor_faturamento = min(faturamentos)\n",
        "    maior_faturamento = max(faturamentos)\n",
        "\n",
        "    media_mensal = sum(faturamentos) / len(faturamentos)\n",
        "\n",
        "    dias_acima_media = sum(1 for valor in faturamentos if valor > media_mensal)\n",
        "\n",
        "    return menor_faturamento, maior_faturamento, dias_acima_media\n",
        "\n",
        "faturamentos_diarios = [100, 150, 200, 250, 300, 350, 400, 450, 500, 550, 600, 650, 700, 750, 800, 850, 900, 950, 1000, 1050, 1100, 1150, 1200, 1250, 1300, 1350, 1400, 1450, 1500, 1550, 1600, 1650, 1700, 1750, 1800, 1850, 1900, 1950, 2000]\n",
        "\n",
        "menor, maior, dias_acima_media = analisa_faturamento(faturamentos_diarios)\n",
        "\n",
        "print(f\"Menor valor de faturamento: R${menor}\")\n",
        "print(f\"Maior valor de faturamento: R${maior}\")\n",
        "print(f\"Número de dias com faturamento acima da média mensal: {dias_acima_media}\")"
      ],
      "metadata": {
        "colab": {
          "base_uri": "https://localhost:8080/"
        },
        "id": "An5hK4ykOFa2",
        "outputId": "ee10f26e-9349-495f-af09-d5bce6605d2f"
      },
      "execution_count": 9,
      "outputs": [
        {
          "output_type": "stream",
          "name": "stdout",
          "text": [
            "Menor valor de faturamento: R$100\n",
            "Maior valor de faturamento: R$2000\n",
            "Número de dias com faturamento acima da média mensal: 19\n"
          ]
        }
      ]
    },
    {
      "cell_type": "code",
      "source": [
        "#4) Dado o valor de faturamento mensal de uma distribuidora, detalhado por estado:\n",
        "#• SP – R$67.836,43\n",
        "#• RJ – R$36.678,66\n",
        "#• MG – R$29.229,88\n",
        "#• ES – R$27.165,48\n",
        "#• Outros – R$19.849,53\n",
        "\n",
        "#Escreva um programa na linguagem que desejar onde calcule o percentual de representação que cada estado teve dentro do valor total mensal da distribuidor\n",
        "\n",
        "faturamento_por_estado = {\n",
        "        'SP': 67836.43,\n",
        "        'RJ': 36678.66,\n",
        "        'MG': 29229.88,\n",
        "        'ES': 27165.48,\n",
        "        'Outros': 19849.53\n",
        "        }\n",
        "\n",
        "valor_total = sum(faturamento_por_estado.values())\n",
        "\n",
        "percentuais = {estado: (valor / valor_total) * 100 for estado, valor in faturamento_por_estado.items()}\n",
        "\n",
        "print(\"Percentual de representação de cada estado no faturamento mensal:\")\n",
        "for estado, percentual in percentuais.items():\n",
        "    print(f\"{estado}: {percentual:.2f}%\")\n"
      ],
      "metadata": {
        "colab": {
          "base_uri": "https://localhost:8080/"
        },
        "id": "aAn7QkvlOZrn",
        "outputId": "9f7422d3-36c4-41fb-960d-2073e01d1ba1"
      },
      "execution_count": 15,
      "outputs": [
        {
          "output_type": "stream",
          "name": "stdout",
          "text": [
            "Percentual de representação de cada estado no faturamento mensal:\n",
            "SP: 37.53%\n",
            "RJ: 20.29%\n",
            "MG: 16.17%\n",
            "ES: 15.03%\n",
            "Outros: 10.98%\n"
          ]
        }
      ]
    },
    {
      "cell_type": "code",
      "source": [
        "#5) Escreva um programa que inverta os caracteres de um string.\n",
        "\n",
        "#IMPORTANTE:\n",
        "#a) Essa string pode ser informada através de qualquer entrada de sua preferência ou pode ser previamente definida no código;\n",
        "#b) Evite usar funções prontas, como, por exemplo, reverse;\n",
        "\n",
        "def inverter_string(s):\n",
        "    string_invertida = ''\n",
        "\n",
        "    for i in range(len(s) - 1, -1, -1):\n",
        "        string_invertida += s[i]\n",
        "\n",
        "    return string_invertida\n",
        "\n",
        "entrada = input(\"Digite a string que deseja inverter: \")\n",
        "resultado = inverter_string(entrada)\n",
        "print(f\"String invertida: {resultado}\")"
      ],
      "metadata": {
        "colab": {
          "base_uri": "https://localhost:8080/"
        },
        "id": "Z8t3kJbnRxe2",
        "outputId": "4fe89729-4a92-4ffe-b306-53dd0707b676"
      },
      "execution_count": 17,
      "outputs": [
        {
          "output_type": "stream",
          "name": "stdout",
          "text": [
            "Digite a string que deseja inverter: rua\n",
            "String invertida: aur\n"
          ]
        }
      ]
    }
  ]
}